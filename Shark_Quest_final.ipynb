{
 "cells": [
  {
   "cell_type": "code",
   "execution_count": null,
   "id": "2e9812ab-aeb9-43c8-bcc7-abf97428425c",
   "metadata": {
    "id": "2e9812ab-aeb9-43c8-bcc7-abf97428425c"
   },
   "outputs": [],
   "source": [
    "import pandas as pd\n",
    "import os"
   ]
  },
  {
   "cell_type": "code",
   "execution_count": null,
   "id": "8hd77s_FlJZd",
   "metadata": {
    "colab": {
     "base_uri": "https://localhost:8080/",
     "height": 287
    },
    "id": "8hd77s_FlJZd",
    "outputId": "0bd343ca-043a-4681-a23d-7d1dbd644d30"
   },
   "outputs": [],
   "source": [
    "df = pd.read_excel(\"https://www.sharkattackfile.net/spreadsheets/GSAF5.xls\")"
   ]
  },
  {
   "cell_type": "code",
   "execution_count": null,
   "id": "914248a9",
   "metadata": {},
   "outputs": [],
   "source": [
    "run Shark_Quest.py"
   ]
  },
  {
   "cell_type": "code",
   "execution_count": null,
   "id": "fb5ecf68",
   "metadata": {},
   "outputs": [],
   "source": [
    "to_use.nunique()"
   ]
  },
  {
   "cell_type": "code",
   "execution_count": null,
   "id": "c0967b96",
   "metadata": {},
   "outputs": [],
   "source": []
  }
 ],
 "metadata": {
  "colab": {
   "provenance": []
  },
  "kernelspec": {
   "display_name": "Python 3 (ipykernel)",
   "language": "python",
   "name": "python3"
  },
  "language_info": {
   "codemirror_mode": {
    "name": "ipython",
    "version": 3
   },
   "file_extension": ".py",
   "mimetype": "text/x-python",
   "name": "python",
   "nbconvert_exporter": "python",
   "pygments_lexer": "ipython3",
   "version": "3.11.7"
  }
 },
 "nbformat": 4,
 "nbformat_minor": 5
}
